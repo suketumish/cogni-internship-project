{
 "cells": [
  {
   "cell_type": "markdown",
   "metadata": {},
   "source": [
    "LEVEL 1"
   ]
  },
  {
   "cell_type": "markdown",
   "metadata": {},
   "source": [
    "Task 1:- (Top Cuisines)\n",
    " Determine the top three most common cuisines in the dataset."
   ]
  },
  {
   "cell_type": "code",
   "execution_count": null,
   "metadata": {},
   "outputs": [
    {
     "name": "stdout",
     "output_type": "stream",
     "text": [
      "Cuisines\n",
      "North Indian             936\n",
      "North Indian, Chinese    511\n",
      "Chinese                  354\n",
      "Name: count, dtype: int64\n"
     ]
    }
   ],
   "source": [
    "import pandas as pd\n",
    "\n",
    "# Load the dataset\n",
    "df = pd.read_csv(\"level_1\\Dataset .csv\")  # Replace with your file.\n",
    "\n",
    "# Count cuisine occurrences\n",
    "top_cuisines = df['Cuisines'].value_counts().head(3)\n",
    "\n",
    "\n",
    "\n",
    "\n",
    "print(top_cuisines)\n"
   ]
  },
  {
   "cell_type": "markdown",
   "metadata": {},
   "source": [
    "Calculate the percentage of restaurants that serve each of the top cuisines."
   ]
  },
  {
   "cell_type": "code",
   "execution_count": null,
   "metadata": {},
   "outputs": [
    {
     "name": "stdout",
     "output_type": "stream",
     "text": [
      "Column Names: ['Restaurant ID', 'Restaurant Name', 'Country Code', 'City', 'Address', 'Locality', 'Locality Verbose', 'Longitude', 'Latitude', 'Cuisines', 'Average Cost for two', 'Currency', 'Has Table booking', 'Has Online delivery', 'Is delivering now', 'Switch to order menu', 'Price range', 'Aggregate rating', 'Rating color', 'Rating text', 'Votes']\n",
      "Top 3 Cuisines with Percentages:\n",
      "Cuisines\n",
      "North Indian             9.800021\n",
      "North Indian, Chinese    5.350225\n",
      "Chinese                  3.706418\n",
      "Name: count, dtype: float64\n"
     ]
    }
   ],
   "source": [
    "import pandas as pd\n",
    "\n",
    "# Load the dataset\n",
    "df = pd.read_csv(\"level_1\\Dataset .csv\")  # Replace with your actual file\n",
    "\n",
    "# Strip spaces from column names (if needed)\n",
    "df.columns = df.columns.str.strip()\n",
    "\n",
    "# Print column names to verify the correct name\n",
    "print(\"Column Names:\", df.columns.tolist())\n",
    "\n",
    "# Check if 'Cuisine' exists, update if needed\n",
    "cuisine_column = 'Cuisines'  # Change this if the column name is different\n",
    "\n",
    "# Count occurrences of each cuisine\n",
    "cuisine_counts = df[cuisine_column].value_counts()\n",
    "\n",
    "# Get total restaurants\n",
    "total_restaurants = len(df)\n",
    "\n",
    "# Get the top 3 cuisines\n",
    "top_cuisines = cuisine_counts.head(3)\n",
    "\n",
    "# Calculate percentage.\n",
    "top_cuisine_percentages = (top_cuisines / total_restaurants) * 100\n",
    "\n",
    "# Print results\n",
    "print(\"Top 3 Cuisines with Percentages:\")\n",
    "print(top_cuisine_percentages)\n"
   ]
  },
  {
   "cell_type": "markdown",
   "metadata": {},
   "source": [
    " Task 2 :- City Analysis\n",
    " Identify the city with the highest number of restaurants in the dataset."
   ]
  },
  {
   "cell_type": "code",
   "execution_count": 13,
   "metadata": {},
   "outputs": [
    {
     "name": "stdout",
     "output_type": "stream",
     "text": [
      "Column Names: ['Restaurant ID', 'Restaurant Name', 'Country Code', 'City', 'Address', 'Locality', 'Locality Verbose', 'Longitude', 'Latitude', 'Cuisines', 'Average Cost for two', 'Currency', 'Has Table booking', 'Has Online delivery', 'Is delivering now', 'Switch to order menu', 'Price range', 'Aggregate rating', 'Rating color', 'Rating text', 'Votes']\n",
      "The city with the highest number of restaurants is New Delhi with 5473 restaurants.\n"
     ]
    }
   ],
   "source": [
    "import pandas as pd\n",
    "\n",
    "# Load the dataset\n",
    "df = pd.read_csv(\"level_1\\Dataset .csv\")  # Replace with your actual file\n",
    "\n",
    "# Strip spaces from column names (if needed)\n",
    "df.columns = df.columns.str.strip()\n",
    "\n",
    "# Print column names to verify the correct name\n",
    "print(\"Column Names:\", df.columns.tolist())\n",
    "\n",
    "# Check if 'City' column exists, update if needed\n",
    "city_column = 'City'  # Change this if the column name is different\n",
    "\n",
    "# Count occurrences of each city\n",
    "city_counts = df[city_column].value_counts()\n",
    "\n",
    "# Get the city with the highest number of restaurants\n",
    "top_city = city_counts.idxmax()\n",
    "top_city_count = city_counts.max()\n",
    "\n",
    "# Print result\n",
    "print(f\"The city with the highest number of restaurants is {top_city} with {top_city_count} restaurants.\")\n"
   ]
  },
  {
   "cell_type": "markdown",
   "metadata": {},
   "source": [
    " Calculate the average rating for restaurants in each city."
   ]
  },
  {
   "cell_type": "code",
   "execution_count": 14,
   "metadata": {},
   "outputs": [
    {
     "name": "stdout",
     "output_type": "stream",
     "text": [
      "Column Names: ['Restaurant ID', 'Restaurant Name', 'Country Code', 'City', 'Address', 'Locality', 'Locality Verbose', 'Longitude', 'Latitude', 'Cuisines', 'Average Cost for two', 'Currency', 'Has Table booking', 'Has Online delivery', 'Is delivering now', 'Switch to order menu', 'Price range', 'Aggregate rating', 'Rating color', 'Rating text', 'Votes']\n",
      "Average rating for restaurants in each city:\n",
      "City\n",
      "Inner City          4.900000\n",
      "Quezon City         4.800000\n",
      "Makati City         4.650000\n",
      "Pasig City          4.633333\n",
      "Mandaluyong City    4.625000\n",
      "                      ...   \n",
      "New Delhi           2.438845\n",
      "Montville           2.400000\n",
      "Mc Millan           2.400000\n",
      "Noida               2.036204\n",
      "Faridabad           1.866932\n",
      "Name: Aggregate rating, Length: 141, dtype: float64\n"
     ]
    }
   ],
   "source": [
    "import pandas as pd\n",
    "\n",
    "# Load the dataset\n",
    "df = pd.read_csv(\"level_1\\Dataset .csv\")  # Replace with your actual file\n",
    "\n",
    "# Strip spaces from column names (if needed)\n",
    "df.columns = df.columns.str.strip()\n",
    "\n",
    "# Print column names to verify\n",
    "print(\"Column Names:\", df.columns.tolist())\n",
    "\n",
    "# Define the relevant column names\n",
    "city_column = 'City'\n",
    "rating_column = 'Aggregate rating'  # Updated to match your dataset\n",
    "\n",
    "# Calculate the average rating for each city\n",
    "avg_ratings = df.groupby(city_column)[rating_column].mean()\n",
    "\n",
    "# Sort by highest average rating (optional)\n",
    "avg_ratings_sorted = avg_ratings.sort_values(ascending=False)\n",
    "\n",
    "# Print results\n",
    "print(\"Average rating for restaurants in each city:\")\n",
    "print(avg_ratings_sorted)\n"
   ]
  },
  {
   "cell_type": "markdown",
   "metadata": {},
   "source": [
    " Determine the city with the highest average rating."
   ]
  },
  {
   "cell_type": "code",
   "execution_count": 15,
   "metadata": {},
   "outputs": [
    {
     "name": "stdout",
     "output_type": "stream",
     "text": [
      "Column Names: ['Restaurant ID', 'Restaurant Name', 'Country Code', 'City', 'Address', 'Locality', 'Locality Verbose', 'Longitude', 'Latitude', 'Cuisines', 'Average Cost for two', 'Currency', 'Has Table booking', 'Has Online delivery', 'Is delivering now', 'Switch to order menu', 'Price range', 'Aggregate rating', 'Rating color', 'Rating text', 'Votes']\n",
      "The city with the highest average rating is Inner City with an average rating of 4.90.\n"
     ]
    }
   ],
   "source": [
    "import pandas as pd\n",
    "\n",
    "# Load the dataset\n",
    "df = pd.read_csv(\"level_1\\Dataset .csv\")  # Replace with your actual file\n",
    "\n",
    "# Strip spaces from column names (if needed)\n",
    "df.columns = df.columns.str.strip()\n",
    "\n",
    "# Print column names to verify\n",
    "print(\"Column Names:\", df.columns.tolist())\n",
    "\n",
    "# Define relevant column names\n",
    "city_column = 'City'\n",
    "rating_column = 'Aggregate rating'  # Updated to match your dataset\n",
    "\n",
    "# Calculate the average rating for each city\n",
    "avg_ratings = df.groupby(city_column)[rating_column].mean()\n",
    "\n",
    "# Find the city with the highest average rating\n",
    "top_city = avg_ratings.idxmax()\n",
    "top_rating = avg_ratings.max()\n",
    "\n",
    "# Print result\n",
    "print(f\"The city with the highest average rating is {top_city} with an average rating of {top_rating:.2f}.\")\n"
   ]
  },
  {
   "cell_type": "markdown",
   "metadata": {},
   "source": [
    " Task 3: (Price Range Distribution)\n",
    "  Create a histogram or bar chart to visualize the distribution of price ranges among the restaurants."
   ]
  },
  {
   "cell_type": "code",
   "execution_count": 16,
   "metadata": {},
   "outputs": [
    {
     "name": "stderr",
     "output_type": "stream",
     "text": [
      "C:\\Users\\saket\\AppData\\Local\\Temp\\ipykernel_12068\\3866850477.py:19: FutureWarning: \n",
      "\n",
      "Passing `palette` without assigning `hue` is deprecated and will be removed in v0.14.0. Assign the `x` variable to `hue` and set `legend=False` for the same effect.\n",
      "\n",
      "  sns.barplot(x=price_counts.index, y=price_counts.values, palette=\"viridis\")\n"
     ]
    },
    {
     "data": {
      "image/png": "[encoded data removed]",
      "text/plain": [
       "<Figure size 800x500 with 1 Axes>"
      ]
     },
     "metadata": {},
     "output_type": "display_data"
    }
   ],
   "source": [
    "import pandas as pd\n",
    "import matplotlib.pyplot as plt\n",
    "import seaborn as sns\n",
    "\n",
    "# Load the dataset\n",
    "df = pd.read_csv(\"level_1\\Dataset .csv\")  # Replace with your actual file\n",
    "\n",
    "# Strip spaces from column names (if needed)\n",
    "df.columns = df.columns.str.strip()\n",
    "\n",
    "# Define relevant column\n",
    "price_column = 'Price range'  # Ensure this column exists in your dataset\n",
    "\n",
    "# Count occurrences of each price range\n",
    "price_counts = df[price_column].value_counts().sort_index()\n",
    "\n",
    "# Plot the distribution as a bar chart\n",
    "plt.figure(figsize=(8, 5))\n",
    "sns.barplot(x=price_counts.index, y=price_counts.values, palette=\"viridis\")\n",
    "\n",
    "# Add labels and title\n",
    "plt.xlabel(\"Price Range\")\n",
    "plt.ylabel(\"Number of Restaurants\")\n",
    "plt.title(\"Distribution of Price Ranges Among Restaurants\")\n",
    "plt.xticks(rotation=0)  # Ensure labels are readable\n",
    "plt.grid(axis=\"y\", linestyle=\"--\", alpha=0.7)\n",
    "\n",
    "# Show the plot\n",
    "plt.show()\n"
   ]
  },
  {
   "cell_type": "markdown",
   "metadata": {},
   "source": [
    " Calculate the percentage of restaurants in each price range category."
   ]
  },
  {
   "cell_type": "code",
   "execution_count": 17,
   "metadata": {},
   "outputs": [
    {
     "name": "stdout",
     "output_type": "stream",
     "text": [
      "Percentage of Restaurants in Each Price Range:\n",
      "Price range\n",
      "1    46.529159\n",
      "2    32.593446\n",
      "3    14.741912\n",
      "4     6.135483\n",
      "Name: count, dtype: float64\n"
     ]
    }
   ],
   "source": [
    "import pandas as pd\n",
    "\n",
    "# Load the dataset\n",
    "df = pd.read_csv(\"level_1\\Dataset .csv\")  # Replace with your actual file\n",
    "\n",
    "# Strip spaces from column names (if needed)\n",
    "df.columns = df.columns.str.strip()\n",
    "\n",
    "# Define relevant column\n",
    "price_column = 'Price range'  # Ensure this column exists in your dataset\n",
    "\n",
    "# Count occurrences of each price range\n",
    "price_counts = df[price_column].value_counts()\n",
    "\n",
    "# Calculate percentage\n",
    "price_percentage = (price_counts / len(df)) * 100\n",
    "\n",
    "# Print results\n",
    "print(\"Percentage of Restaurants in Each Price Range:\")\n",
    "print(price_percentage)\n"
   ]
  },
  {
   "cell_type": "markdown",
   "metadata": {},
   "source": [
    "Task 4 :- (Online Delivery)\n",
    " Determine the percentage of restaurants that offer online delivery."
   ]
  },
  {
   "cell_type": "code",
   "execution_count": 18,
   "metadata": {},
   "outputs": [
    {
     "name": "stdout",
     "output_type": "stream",
     "text": [
      "Percentage of restaurants that offer online delivery: 25.66%\n"
     ]
    }
   ],
   "source": [
    "import pandas as pd\n",
    "\n",
    "# Load the dataset\n",
    "df = pd.read_csv(\"level_1\\Dataset .csv\")  # Replace with your actual file\n",
    "\n",
    "# Strip spaces from column names (if needed)\n",
    "df.columns = df.columns.str.strip()\n",
    "\n",
    "# Define relevant column\n",
    "online_delivery_column = 'Has Online delivery'  # Ensure this column exists in your dataset\n",
    "\n",
    "# Convert column to consistent format (if necessary)\n",
    "df[online_delivery_column] = df[online_delivery_column].astype(str).str.lower()\n",
    "\n",
    "# Count occurrences\n",
    "online_delivery_count = df[online_delivery_column].value_counts()\n",
    "\n",
    "# Calculate percentage of restaurants that offer online delivery\n",
    "if 'yes' in online_delivery_count:\n",
    "    online_delivery_percentage = (online_delivery_count['yes'] / len(df)) * 100\n",
    "else:\n",
    "    online_delivery_percentage = 0  # No restaurants offer online delivery\n",
    "\n",
    "# Print result\n",
    "print(f\"Percentage of restaurants that offer online delivery: {online_delivery_percentage:.2f}%\")\n"
   ]
  },
  {
   "cell_type": "markdown",
   "metadata": {},
   "source": [
    "Compare the average ratings of restaurants with and without online delivery."
   ]
  },
  {
   "cell_type": "code",
   "execution_count": null,
   "metadata": {},
   "outputs": [
    {
     "name": "stdout",
     "output_type": "stream",
     "text": [
      "Average rating of restaurants WITH online delivery: 3.25\n",
      "Average rating of restaurants WITHOUT online delivery: 2.47\n"
     ]
    }
   ],
   "source": [
    "import pandas as pd\n",
    "\n",
    "# Load the dataset\n",
    "df = pd.read_csv(\"level_1\\Dataset .csv\")  # Replace with your actual file\n",
    "\n",
    "# Strip spaces from column names (if needed)\n",
    "df.columns = df.columns.str.strip()\n",
    "\n",
    "# Define relevant columns\n",
    "online_delivery_column = 'Has Online delivery'\n",
    "rating_column = 'Aggregate rating'\n",
    "\n",
    "# Convert the \"Has Online delivery\" column to lowercase for consistency\n",
    "df[online_delivery_column] = df[online_delivery_column].astype(str).str.lower()\n",
    "\n",
    "# Calculate average ratings\n",
    "avg_rating_with_delivery = df[df[online_delivery_column] == 'yes'][rating_column].mean()\n",
    "avg_rating_without_delivery = df[df[online_delivery_column] == 'no'][rating_column].mean()\n",
    "\n",
    "# Print results\n",
    "print(f\"Average rating of restaurants WITH online delivery: {avg_rating_with_delivery:.2f}\")\n",
    "print(f\"Average rating of restaurants WITHOUT online delivery: {avg_rating_without_delivery:.2f}\")\n"
   ]
  },
  {
   "cell_type": "markdown",
   "metadata": {},
   "source": [
    "LEVEL :- 2"
   ]
  },
  {
   "cell_type": "markdown",
   "metadata": {},
   "source": [
    "Task:-1 (Restaurant Ratings)\n",
    " Analyze the distribution of aggregate ratings and determine the most common rating range."
   ]
  },
  {
   "cell_type": "code",
   "execution_count": 20,
   "metadata": {},
   "outputs": [
    {
     "data": {
      "image/png": "[encoded data removed]",
      "text/plain": [
       "<Figure size 800x500 with 1 Axes>"
      ]
     },
     "metadata": {},
     "output_type": "display_data"
    },
    {
     "name": "stdout",
     "output_type": "stream",
     "text": [
      "The most common rating range is around 0.0.\n"
     ]
    }
   ],
   "source": [
    "import pandas as pd\n",
    "import matplotlib.pyplot as plt\n",
    "import seaborn as sns\n",
    "\n",
    "# Load the dataset\n",
    "df = pd.read_csv(\"level_2\\Dataset .csv\")  # Replace with your actual file\n",
    "\n",
    "# Strip spaces from column names (if needed)\n",
    "df.columns = df.columns.str.strip()\n",
    "\n",
    "# Define relevant column\n",
    "rating_column = 'Aggregate rating'  # Ensure this column exists in your dataset\n",
    "\n",
    "# Plot the distribution as a histogram\n",
    "plt.figure(figsize=(8, 5))\n",
    "sns.histplot(df[rating_column], bins=10, kde=True, color=\"blue\")\n",
    "\n",
    "# Add labels and title\n",
    "plt.xlabel(\"Aggregate Rating\")\n",
    "plt.ylabel(\"Number of Restaurants\")\n",
    "plt.title(\"Distribution of Aggregate Ratings\")\n",
    "plt.grid(axis=\"y\", linestyle=\"--\", alpha=0.7)\n",
    "\n",
    "# Show the plot\n",
    "plt.show()\n",
    "\n",
    "# Determine the most common rating range\n",
    "most_common_rating_range = df[rating_column].round(1).mode()[0]\n",
    "print(f\"The most common rating range is around {most_common_rating_range}.\")\n"
   ]
  },
  {
   "cell_type": "markdown",
   "metadata": {},
   "source": [
    " Calculate the average number of votes received by restaurants."
   ]
  },
  {
   "cell_type": "code",
   "execution_count": 21,
   "metadata": {},
   "outputs": [
    {
     "name": "stdout",
     "output_type": "stream",
     "text": [
      "The average number of votes received by restaurants is 156.91.\n"
     ]
    }
   ],
   "source": [
    "import pandas as pd\n",
    "\n",
    "# Load the dataset\n",
    "df = pd.read_csv(\"level_2\\Dataset .csv\")  # Replace with your actual file\n",
    "\n",
    "# Strip spaces from column names (if needed)\n",
    "df.columns = df.columns.str.strip()\n",
    "\n",
    "# Define relevant column\n",
    "votes_column = 'Votes'  # Ensure this column exists in your dataset\n",
    "\n",
    "# Convert \"Votes\" column to numeric (in case of string values)\n",
    "df[votes_column] = pd.to_numeric(df[votes_column], errors='coerce')\n",
    "\n",
    "# Calculate the average number of votes\n",
    "average_votes = df[votes_column].mean()\n",
    "\n",
    "# Print result\n",
    "print(f\"The average number of votes received by restaurants is {average_votes:.2f}.\")\n"
   ]
  },
  {
   "cell_type": "markdown",
   "metadata": {},
   "source": [
    " Task 2 :- (Cuisine Combination)\n",
    "  Identify the most common combinations of cuisines in the dataset."
   ]
  },
  {
   "cell_type": "code",
   "execution_count": 22,
   "metadata": {},
   "outputs": [
    {
     "name": "stdout",
     "output_type": "stream",
     "text": [
      "Top 10 most common cuisine combinations:\n",
      "Cuisines\n",
      "North Indian                      936\n",
      "North Indian, Chinese             511\n",
      "Chinese                           354\n",
      "Fast Food                         354\n",
      "North Indian, Mughlai             334\n",
      "Cafe                              299\n",
      "Bakery                            218\n",
      "North Indian, Mughlai, Chinese    197\n",
      "Bakery, Desserts                  170\n",
      "Street Food                       149\n",
      "Name: count, dtype: int64\n"
     ]
    }
   ],
   "source": [
    "import pandas as pd\n",
    "\n",
    "# Load the dataset\n",
    "df = pd.read_csv(\"level_2\\Dataset .csv\")  # Replace with your actual file\n",
    "\n",
    "# Strip spaces from column names (if needed)\n",
    "df.columns = df.columns.str.strip()\n",
    "\n",
    "# Define relevant column\n",
    "cuisine_column = 'Cuisines'  # Ensure this column exists in your dataset\n",
    "\n",
    "# Count occurrences of each cuisine combination\n",
    "cuisine_combinations = df[cuisine_column].value_counts()\n",
    "\n",
    "# Display the top 10 most common cuisine combinations\n",
    "print(\"Top 10 most common cuisine combinations:\")\n",
    "print(cuisine_combinations.head(10))\n"
   ]
  },
  {
   "cell_type": "markdown",
   "metadata": {},
   "source": [
    " Determine if certain cuisine combinations tend to have higher ratings."
   ]
  },
  {
   "cell_type": "code",
   "execution_count": 23,
   "metadata": {},
   "outputs": [
    {
     "name": "stdout",
     "output_type": "stream",
     "text": [
      "Top 10 highest-rated cuisine combinations:\n",
      "Cuisines\n",
      "Burger, Bar Food, Steak            4.9\n",
      "American, Burger, Grill            4.9\n",
      "American, Caribbean, Seafood       4.9\n",
      "American, Coffee and Tea           4.9\n",
      "Mexican, American, Healthy Food    4.9\n",
      "Italian, Bakery, Continental       4.9\n",
      "BBQ, Breakfast, Southern           4.9\n",
      "European, German                   4.9\n",
      "Hawaiian, Seafood                  4.9\n",
      "Sunda, Indonesian                  4.9\n",
      "Name: Aggregate rating, dtype: float64\n"
     ]
    }
   ],
   "source": [
    "import pandas as pd\n",
    "\n",
    "# Load the dataset\n",
    "df = pd.read_csv(\"level_2\\Dataset .csv\")  # Replace with your actual file\n",
    "\n",
    "# Strip spaces from column names (if needed)\n",
    "df.columns = df.columns.str.strip()\n",
    "\n",
    "# Define relevant columns\n",
    "cuisine_column = 'Cuisines'\n",
    "rating_column = 'Aggregate rating'\n",
    "\n",
    "# Group by cuisine combinations and calculate average rating\n",
    "cuisine_ratings = df.groupby(cuisine_column)[rating_column].mean()\n",
    "\n",
    "# Sort by highest ratings\n",
    "top_cuisine_ratings = cuisine_ratings.sort_values(ascending=False)\n",
    "\n",
    "# Display the top 10 highest-rated cuisine combinations\n",
    "print(\"Top 10 highest-rated cuisine combinations:\")\n",
    "print(top_cuisine_ratings.head(10))\n"
   ]
  },
  {
   "cell_type": "markdown",
   "metadata": {},
   "source": [
    " Task 3 :- (Geographic Analysis)\n",
    "  Plot the locations of restaurants on a map using longitude and latitude coordinates."
   ]
  },
  {
   "cell_type": "code",
   "execution_count": 24,
   "metadata": {},
   "outputs": [
    {
     "name": "stdout",
     "output_type": "stream",
     "text": [
      "Map saved as 'restaurant_locations.html'. Open it in a browser to view.\n"
     ]
    }
   ],
   "source": [
    "import pandas as pd\n",
    "import folium\n",
    "\n",
    "# Load the dataset\n",
    "df = pd.read_csv(\"level_2\\Dataset .csv\")  # Replace with your actual file\n",
    "\n",
    "# Strip spaces from column names (if needed)\n",
    "df.columns = df.columns.str.strip()\n",
    "\n",
    "# Define relevant columns\n",
    "lat_column = 'Latitude'\n",
    "long_column = 'Longitude'\n",
    "\n",
    "# Create a base map centered at an average location\n",
    "map_center = [df[lat_column].mean(), df[long_column].mean()]\n",
    "restaurant_map = folium.Map(location=map_center, zoom_start=12)\n",
    "\n",
    "# Add markers for each restaurant\n",
    "for _, row in df.iterrows():\n",
    "    folium.Marker(\n",
    "        location=[row[lat_column], row[long_column]],\n",
    "        popup=row.get('Restaurant Name', 'Unknown Restaurant'),  \n",
    "        icon=folium.Icon(color=\"blue\", icon=\"cutlery\", prefix=\"fa\")\n",
    "    ).add_to(restaurant_map)\n",
    "\n",
    "# Save and display the map\n",
    "restaurant_map.save(\"restaurant_locations.html\")\n",
    "print(\"Map saved as 'restaurant_locations.html'. Open it in a browser to view.\")\n"
   ]
  },
  {
   "cell_type": "markdown",
   "metadata": {},
   "source": [
    " Identify any patterns or clusters of restaurants in specific areas."
   ]
  },
  {
   "cell_type": "code",
   "execution_count": 25,
   "metadata": {},
   "outputs": [
    {
     "data": {
      "image/png": "[encoded data removed]",
      "text/plain": [
       "<Figure size 1000x600 with 1 Axes>"
      ]
     },
     "metadata": {},
     "output_type": "display_data"
    }
   ],
   "source": [
    "import pandas as pd\n",
    "import matplotlib.pyplot as plt\n",
    "from sklearn.cluster import KMeans\n",
    "\n",
    "# Load the dataset\n",
    "df = pd.read_csv(\"level_2\\Dataset .csv\")  # Replace with your actual file\n",
    "\n",
    "# Strip spaces from column names (if needed)\n",
    "df.columns = df.columns.str.strip()\n",
    "\n",
    "# Define relevant columns\n",
    "lat_column = 'Latitude'\n",
    "long_column = 'Longitude'\n",
    "\n",
    "# Drop missing values\n",
    "df = df.dropna(subset=[lat_column, long_column])\n",
    "\n",
    "# Apply K-Means clustering\n",
    "num_clusters = 5  # Adjust based on your dataset\n",
    "kmeans = KMeans(n_clusters=num_clusters, random_state=42)\n",
    "df['Cluster'] = kmeans.fit_predict(df[[long_column, lat_column]])\n",
    "\n",
    "# Plot clusters\n",
    "plt.figure(figsize=(10, 6))\n",
    "plt.scatter(df[long_column], df[lat_column], c=df['Cluster'], cmap='rainbow', alpha=0.6, edgecolors='k')\n",
    "plt.scatter(kmeans.cluster_centers_[:, 0], kmeans.cluster_centers_[:, 1], color='black', marker='X', s=200, label=\"Centroids\")\n",
    "\n",
    "plt.xlabel(\"Longitude\")\n",
    "plt.ylabel(\"Latitude\")\n",
    "plt.title(\"Restaurant Clusters\")\n",
    "plt.legend()\n",
    "plt.show()\n"
   ]
  },
  {
   "cell_type": "markdown",
   "metadata": {},
   "source": [
    " Task 4 :- (Restaurant Chains)\n",
    "  Identify if there are any restaurant chains present in the dataset."
   ]
  },
  {
   "cell_type": "code",
   "execution_count": 28,
   "metadata": {},
   "outputs": [
    {
     "name": "stdout",
     "output_type": "stream",
     "text": [
      "Top Restaurant Chains:\n",
      "Restaurant Name\n",
      "Cafe Coffee Day     83\n",
      "Domino's Pizza      79\n",
      "Subway              63\n",
      "Green Chick Chop    51\n",
      "McDonald's          48\n",
      "Keventers           34\n",
      "Pizza Hut           30\n",
      "Giani               29\n",
      "Baskin Robbins      28\n",
      "Barbeque Nation     26\n",
      "Name: count, dtype: int64\n"
     ]
    }
   ],
   "source": [
    "import pandas as pd\n",
    "\n",
    "# Load the dataset\n",
    "df = pd.read_csv(\"level_2\\Dataset .csv\")  # Replace with your actual file\n",
    "\n",
    "# Strip spaces from column names (if needed)\n",
    "df.columns = df.columns.str.strip()\n",
    "\n",
    "# Count occurrences of each restaurant name\n",
    "restaurant_counts = df['Restaurant Name'].value_counts()\n",
    "\n",
    "# Filter for restaurant chains (restaurants appearing more than once)\n",
    "restaurant_chains = restaurant_counts[restaurant_counts > 1]\n",
    "\n",
    "# Display the top 10 largest chains\n",
    "print(\"Top Restaurant Chains:\")\n",
    "print(restaurant_chains.head(10))\n"
   ]
  },
  {
   "cell_type": "markdown",
   "metadata": {},
   "source": [
    "Analyze the ratings and popularity of different restaurant chains."
   ]
  },
  {
   "cell_type": "code",
   "execution_count": 27,
   "metadata": {},
   "outputs": [
    {
     "name": "stdout",
     "output_type": "stream",
     "text": [
      "Top 10 Highest Rated Chains:\n",
      "               Restaurant Name  Avg_Rating  Total_Votes  Locations\n",
      "629           Talaga Sampireun       4.900         5514          3\n",
      "589           Silantro Fil-Mex       4.850         1364          2\n",
      "8      AB's Absolute Barbecues       4.850         3151          2\n",
      "7    AB's - Absolute Barbecues       4.825        13400          4\n",
      "449         Naturals Ice Cream       4.800         3094          2\n",
      "293                   Gymkhana       4.700          328          2\n",
      "653     The Cheesecake Factory       4.650         3010          2\n",
      "267          Garota de Ipanema       4.600           59          2\n",
      "218                    Dishoom       4.600         1269          2\n",
      "163                    Chili's       4.580         8156          5\n",
      "\n",
      "Top 10 Most Popular Chains (by Votes):\n",
      "               Restaurant Name  Avg_Rating  Total_Votes  Locations\n",
      "62             Barbeque Nation    4.353846        28142         26\n",
      "7    AB's - Absolute Barbecues    4.825000        13400          4\n",
      "79                   Big Chill    4.475000        10853          4\n",
      "239                 Farzi Cafe    4.366667        10098          6\n",
      "692                   Truffles    3.950000         9682          2\n",
      "163                    Chili's    4.580000         8156          5\n",
      "338               Joey's Pizza    4.250000         7807          2\n",
      "83             Big Yellow Door    4.266667         7511          3\n",
      "568            Saravana Bhavan    4.133333         7238          3\n",
      "614                  Starbucks    3.805556         7139         18\n"
     ]
    }
   ],
   "source": [
    "import pandas as pd\n",
    "\n",
    "# Load the dataset\n",
    "df = pd.read_csv(\"level_2\\Dataset .csv\")  # Replace with your actual file\n",
    "\n",
    "# Strip spaces from column names (if needed)\n",
    "df.columns = df.columns.str.strip()\n",
    "\n",
    "# Count occurrences of each restaurant name (to find chains)\n",
    "restaurant_counts = df['Restaurant Name'].value_counts()\n",
    "\n",
    "# Filter for restaurant chains (restaurants appearing more than once)\n",
    "restaurant_chains = restaurant_counts[restaurant_counts > 1].index\n",
    "\n",
    "# Filter dataset for only chain restaurants\n",
    "df_chains = df[df['Restaurant Name'].isin(restaurant_chains)]\n",
    "\n",
    "# Group by restaurant name to calculate average rating & total votes\n",
    "chain_analysis = df_chains.groupby('Restaurant Name').agg(\n",
    "    Avg_Rating=('Aggregate rating', 'mean'),\n",
    "    Total_Votes=('Votes', 'sum'),\n",
    "    Locations=('Restaurant Name', 'count')  # Number of locations\n",
    ").reset_index()\n",
    "\n",
    "# Sort by highest average rating\n",
    "top_rated_chains = chain_analysis.sort_values(by='Avg_Rating', ascending=False)\n",
    "\n",
    "# Sort by most popular (highest total votes)\n",
    "most_popular_chains = chain_analysis.sort_values(by='Total_Votes', ascending=False)\n",
    "\n",
    "# Display results\n",
    "print(\"Top 10 Highest Rated Chains:\")\n",
    "print(top_rated_chains.head(10))\n",
    "\n",
    "print(\"\\nTop 10 Most Popular Chains (by Votes):\")\n",
    "print(most_popular_chains.head(10))\n"
   ]
  }
 ],
 "metadata": {
  "kernelspec": {
   "display_name": "cognifyz",
   "language": "python",
   "name": "python3"
  },
  "language_info": {
   "codemirror_mode": {
    "name": "ipython",
    "version": 3
   },
   "file_extension": ".py",
   "mimetype": "text/x-python",
   "name": "python",
   "nbconvert_exporter": "python",
   "pygments_lexer": "ipython3",
   "version": "3.10.16"
  }
 },
 "nbformat": 4,
 "nbformat_minor": 2
}
